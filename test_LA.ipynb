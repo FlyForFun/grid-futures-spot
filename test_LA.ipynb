{
 "cells": [
  {
   "cell_type": "code",
   "execution_count": 1,
   "id": "8d0a0e47",
   "metadata": {},
   "outputs": [],
   "source": [
    "# -*- coding: utf-8 -*-\n",
    "from app.BinanceAPI import BinanceAPI\n",
    "from app.authorization import api_key, api_secret\n",
    "from data.runBetData import RunBetData\n",
    "from app.dingding import Message\n",
    "import time\n",
    "import matplotlib.pyplot as plt\n",
    "import numpy as np\n",
    "import pandas as pd"
   ]
  },
  {
   "cell_type": "code",
   "execution_count": 2,
   "id": "f91e10e8",
   "metadata": {},
   "outputs": [],
   "source": [
    "%matplotlib widget\n",
    "# %matplotlib inline"
   ]
  },
  {
   "cell_type": "code",
   "execution_count": 3,
   "id": "26ed83a0",
   "metadata": {},
   "outputs": [],
   "source": [
    "binan = BinanceAPI(api_key, api_secret)\n",
    "runbet = RunBetData()\n",
    "msg = Message()"
   ]
  },
  {
   "cell_type": "markdown",
   "id": "71f41713",
   "metadata": {},
   "source": [
    "# 实验同一交易对的现货和永续合约间的差价套现"
   ]
  },
  {
   "cell_type": "code",
   "execution_count": 4,
   "id": "9269619a",
   "metadata": {},
   "outputs": [
    {
     "name": "stdout",
     "output_type": "stream",
     "text": [
      "spot: {'symbol': 'ETHUSDT', 'price': '2437.38000000'}\n",
      "future: {'symbol': 'ETHUSDT', 'price': '2437.00', 'time': 1623203544322}\n",
      "Server time: 2021-06-09 09:52:24\n",
      "time cost 1.8515725135803223 s\n"
     ]
    }
   ],
   "source": [
    "time_start = time.time()\n",
    "spot_data = binan.get_spot_ticker_data('ETHUSDT')\n",
    "future_data = binan.get_future_ticker_data('ETHUSDT')\n",
    "time_end = time.time()\n",
    "print('spot: ' + str(spot_data))\n",
    "print('future: ' + str(future_data))\n",
    "print('Server time: %s' % binan.timestamp_to_date(future_data['time']))\n",
    "print('time cost', time_end - time_start, 's')"
   ]
  },
  {
   "cell_type": "code",
   "execution_count": 5,
   "id": "1ce548dd",
   "metadata": {},
   "outputs": [],
   "source": [
    "spot_kline_1m_data = np.array(binan.get_spot_klines('ETHUSDT', '1h', limit=500)).astype(float)\n",
    "future_kline_1m_data = np.array(binan.get_future_klines('ETHUSDT', '1h', limit=500)).astype(float)"
   ]
  },
  {
   "cell_type": "code",
   "execution_count": 6,
   "id": "1148ab62",
   "metadata": {},
   "outputs": [],
   "source": [
    "time_spot = spot_kline_1m_data[:,6]/1000/60/60\n",
    "price_end_spot = spot_kline_1m_data[:,4]\n",
    "time_future = future_kline_1m_data[:,6]/1000/60/60\n",
    "price_end_future = future_kline_1m_data[:,4]"
   ]
  },
  {
   "cell_type": "code",
   "execution_count": 7,
   "id": "acde7919",
   "metadata": {},
   "outputs": [
    {
     "data": {
      "application/vnd.jupyter.widget-view+json": {
       "model_id": "8281dca8c8f74e128afbe092bf8a7429",
       "version_major": 2,
       "version_minor": 0
      },
      "text/plain": [
       "Canvas(toolbar=Toolbar(toolitems=[('Home', 'Reset original view', 'home', 'home'), ('Back', 'Back to previous …"
      ]
     },
     "metadata": {},
     "output_type": "display_data"
    },
    {
     "data": {
      "text/plain": [
       "[<matplotlib.lines.Line2D at 0x160e0720f10>]"
      ]
     },
     "execution_count": 7,
     "metadata": {},
     "output_type": "execute_result"
    }
   ],
   "source": [
    "plt.figure()\n",
    "plt.plot(time_spot-np.min(time_spot),price_end_spot)\n",
    "plt.plot(time_future-np.min(time_spot),price_end_future)"
   ]
  },
  {
   "cell_type": "code",
   "execution_count": 8,
   "id": "07cc4069",
   "metadata": {},
   "outputs": [
    {
     "data": {
      "text/plain": [
       "0.0"
      ]
     },
     "execution_count": 8,
     "metadata": {},
     "output_type": "execute_result"
    }
   ],
   "source": [
    "time_spot[-1]-time_future[-1]"
   ]
  },
  {
   "cell_type": "code",
   "execution_count": 9,
   "id": "9c5abe25",
   "metadata": {},
   "outputs": [
    {
     "data": {
      "text/plain": [
       "450390.99999972223"
      ]
     },
     "execution_count": 9,
     "metadata": {},
     "output_type": "execute_result"
    }
   ],
   "source": [
    "time_future[0]"
   ]
  },
  {
   "cell_type": "code",
   "execution_count": 11,
   "id": "6da0a934",
   "metadata": {},
   "outputs": [
    {
     "name": "stdout",
     "output_type": "stream",
     "text": [
      "Server time: 2021-06-09 09:59:59\n"
     ]
    }
   ],
   "source": [
    "print('Server time: %s' % binan.timestamp_to_date(time_future[-1]*60000*60))"
   ]
  },
  {
   "cell_type": "code",
   "execution_count": 12,
   "id": "3adbcf8c",
   "metadata": {},
   "outputs": [
    {
     "data": {
      "application/vnd.jupyter.widget-view+json": {
       "model_id": "9a4c5c460f7348f490503f291721eb16",
       "version_major": 2,
       "version_minor": 0
      },
      "text/plain": [
       "Canvas(toolbar=Toolbar(toolitems=[('Home', 'Reset original view', 'home', 'home'), ('Back', 'Back to previous …"
      ]
     },
     "metadata": {},
     "output_type": "display_data"
    },
    {
     "data": {
      "text/plain": [
       "[<matplotlib.lines.Line2D at 0x160e0a8c6d0>]"
      ]
     },
     "execution_count": 12,
     "metadata": {},
     "output_type": "execute_result"
    }
   ],
   "source": [
    "plt.figure()\n",
    "plt.plot(time_spot-np.min(time_spot),price_end_future/price_end_spot-1)"
   ]
  },
  {
   "cell_type": "code",
   "execution_count": 13,
   "id": "7f0cdec1",
   "metadata": {},
   "outputs": [],
   "source": [
    "tmp = price_end_future/price_end_spot"
   ]
  },
  {
   "cell_type": "code",
   "execution_count": 14,
   "id": "11cf8978",
   "metadata": {},
   "outputs": [],
   "source": [
    "tmp2 = tmp/np.max(tmp)"
   ]
  },
  {
   "cell_type": "code",
   "execution_count": 15,
   "id": "b40ad313",
   "metadata": {},
   "outputs": [
    {
     "data": {
      "application/vnd.jupyter.widget-view+json": {
       "model_id": "a037dbe4d07449c89b1e8ddaf6281541",
       "version_major": 2,
       "version_minor": 0
      },
      "text/plain": [
       "Canvas(toolbar=Toolbar(toolitems=[('Home', 'Reset original view', 'home', 'home'), ('Back', 'Back to previous …"
      ]
     },
     "metadata": {},
     "output_type": "display_data"
    },
    {
     "data": {
      "text/plain": [
       "[<matplotlib.lines.Line2D at 0x160e0afc340>]"
      ]
     },
     "execution_count": 15,
     "metadata": {},
     "output_type": "execute_result"
    }
   ],
   "source": [
    "plt.figure()\n",
    "plt.plot(tmp2)"
   ]
  },
  {
   "cell_type": "code",
   "execution_count": 16,
   "id": "d72e9fc6",
   "metadata": {
    "scrolled": true
   },
   "outputs": [
    {
     "data": {
      "application/vnd.jupyter.widget-view+json": {
       "model_id": "53b031f687cd4145abc5e4df58800556",
       "version_major": 2,
       "version_minor": 0
      },
      "text/plain": [
       "Canvas(toolbar=Toolbar(toolitems=[('Home', 'Reset original view', 'home', 'home'), ('Back', 'Back to previous …"
      ]
     },
     "metadata": {},
     "output_type": "display_data"
    },
    {
     "data": {
      "text/plain": [
       "[<matplotlib.lines.Line2D at 0x160e0b5cb50>]"
      ]
     },
     "execution_count": 16,
     "metadata": {},
     "output_type": "execute_result"
    }
   ],
   "source": [
    "spot_fee_rate = 0.1/100\n",
    "future_fee_rate = 0.02/100\n",
    "p_spot_incr_rate = np.linspace(0.5, 2, 1000)\n",
    "k_up_bound = (1-spot_fee_rate-(spot_fee_rate+future_fee_rate)/p_spot_incr_rate)/(1+future_fee_rate)\n",
    "plt.figure()\n",
    "plt.plot(p_spot_incr_rate,k_up_bound)"
   ]
  },
  {
   "cell_type": "markdown",
   "id": "ac0ea29a",
   "metadata": {},
   "source": [
    "# 实验两个关联度较高的交易对的永续合约间差价套现"
   ]
  },
  {
   "cell_type": "code",
   "execution_count": 17,
   "id": "af0bdf95",
   "metadata": {},
   "outputs": [
    {
     "data": {
      "application/vnd.jupyter.widget-view+json": {
       "model_id": "316c22e6b4f74648a71e70619762ce8d",
       "version_major": 2,
       "version_minor": 0
      },
      "text/plain": [
       "Canvas(toolbar=Toolbar(toolitems=[('Home', 'Reset original view', 'home', 'home'), ('Back', 'Back to previous …"
      ]
     },
     "metadata": {},
     "output_type": "display_data"
    },
    {
     "data": {
      "text/plain": [
       "[<matplotlib.lines.Line2D at 0x160e1373ca0>]"
      ]
     },
     "execution_count": 17,
     "metadata": {},
     "output_type": "execute_result"
    }
   ],
   "source": [
    "spot_fee_rate = 0.02/100 # 做多\n",
    "future_fee_rate = 0.02/100 # 做空\n",
    "p_spot_incr_rate = np.linspace(0.5, 2, 1000)\n",
    "k_up_bound = (1-spot_fee_rate-(spot_fee_rate+future_fee_rate)/p_spot_incr_rate)/(1+future_fee_rate)\n",
    "plt.figure()\n",
    "plt.plot(p_spot_incr_rate,k_up_bound)"
   ]
  },
  {
   "cell_type": "code",
   "execution_count": 75,
   "id": "96c78679",
   "metadata": {
    "scrolled": true
   },
   "outputs": [
    {
     "data": {
      "application/vnd.jupyter.widget-view+json": {
       "model_id": "f02b31b562b24f888ce41b26a0eb19a9",
       "version_major": 2,
       "version_minor": 0
      },
      "text/plain": [
       "Canvas(toolbar=Toolbar(toolitems=[('Home', 'Reset original view', 'home', 'home'), ('Back', 'Back to previous …"
      ]
     },
     "metadata": {},
     "output_type": "display_data"
    },
    {
     "data": {
      "text/plain": [
       "[<matplotlib.lines.Line2D at 0x160e5d74340>]"
      ]
     },
     "execution_count": 75,
     "metadata": {},
     "output_type": "execute_result"
    }
   ],
   "source": [
    "k = 13.35/13.10\n",
    "roe = (p_spot_incr_rate*(1-k-spot_fee_rate-future_fee_rate*k)-spot_fee_rate-future_fee_rate)/2\n",
    "plt.figure()\n",
    "plt.plot(p_spot_incr_rate,roe)"
   ]
  },
  {
   "cell_type": "markdown",
   "id": "f5088b2b",
   "metadata": {},
   "source": [
    "**多头行情对套利更好**"
   ]
  },
  {
   "cell_type": "code",
   "execution_count": null,
   "id": "d43f2bfe",
   "metadata": {},
   "outputs": [],
   "source": [
    "def Bolinger_Bands(stock_price, window_size, num_of_std):\n",
    "\n",
    "    rolling_mean = stock_price.rolling(window=window_size).mean()\n",
    "    rolling_std  = stock_price.rolling(window=window_size).std()\n",
    "    upper_band = rolling_mean + (rolling_std*num_of_std)\n",
    "    lower_band = rolling_mean - (rolling_std*num_of_std)\n",
    "\n",
    "    return rolling_mean, upper_band, lower_band"
   ]
  },
  {
   "cell_type": "code",
   "execution_count": 68,
   "id": "827c3804",
   "metadata": {},
   "outputs": [],
   "source": [
    "spot_kline_1m_data =  pd.DataFrame(binan.get_future_klines('BTCUSDT', '1m', limit=499)).astype(float)\n",
    "future_kline_1m_data =  pd.DataFrame(binan.get_future_klines('ETHUSDT', '1m', limit=499)).astype(float)"
   ]
  },
  {
   "cell_type": "code",
   "execution_count": 69,
   "id": "d7bd6ec6",
   "metadata": {
    "scrolled": true
   },
   "outputs": [],
   "source": [
    "time_spot = spot_kline_1m_data.iloc[:,6]/1000/60\n",
    "price_end_spot = spot_kline_1m_data.iloc[:,4]\n",
    "time_future = future_kline_1m_data.iloc[:,6]/1000/60\n",
    "price_end_future = future_kline_1m_data.iloc[:,4]"
   ]
  },
  {
   "cell_type": "code",
   "execution_count": 70,
   "id": "9b7a78cc",
   "metadata": {
    "scrolled": false
   },
   "outputs": [
    {
     "data": {
      "application/vnd.jupyter.widget-view+json": {
       "model_id": "931341a59e754f0dbb98f56e62b29f85",
       "version_major": 2,
       "version_minor": 0
      },
      "text/plain": [
       "Canvas(toolbar=Toolbar(toolitems=[('Home', 'Reset original view', 'home', 'home'), ('Back', 'Back to previous …"
      ]
     },
     "metadata": {},
     "output_type": "display_data"
    },
    {
     "data": {
      "text/plain": [
       "<matplotlib.legend.Legend at 0x160e51ebf40>"
      ]
     },
     "execution_count": 70,
     "metadata": {},
     "output_type": "execute_result"
    }
   ],
   "source": [
    "plt.figure()\n",
    "plt.plot(price_end_spot/np.max(price_end_spot))\n",
    "plt.plot(price_end_future/np.max(price_end_future))\n",
    "plt.legend(['BTC','ETH'])"
   ]
  },
  {
   "cell_type": "code",
   "execution_count": 71,
   "id": "3c06d1ef",
   "metadata": {},
   "outputs": [],
   "source": [
    "tmp = 1/(price_end_future/price_end_spot)"
   ]
  },
  {
   "cell_type": "code",
   "execution_count": 72,
   "id": "e5c6212f",
   "metadata": {},
   "outputs": [],
   "source": [
    "rolling_avg_price, upper_band, lower_band = Bolinger_Bands(tmp, 20, 2)"
   ]
  },
  {
   "cell_type": "code",
   "execution_count": 73,
   "id": "e10d7616",
   "metadata": {
    "scrolled": false
   },
   "outputs": [
    {
     "data": {
      "application/vnd.jupyter.widget-view+json": {
       "model_id": "585fd5367da24fb1afa069b66de157d2",
       "version_major": 2,
       "version_minor": 0
      },
      "text/plain": [
       "Canvas(toolbar=Toolbar(toolitems=[('Home', 'Reset original view', 'home', 'home'), ('Back', 'Back to previous …"
      ]
     },
     "metadata": {},
     "output_type": "display_data"
    },
    {
     "data": {
      "text/plain": [
       "[<matplotlib.lines.Line2D at 0x160e5796d00>]"
      ]
     },
     "execution_count": 73,
     "metadata": {},
     "output_type": "execute_result"
    }
   ],
   "source": [
    "plt.close('all')\n",
    "plt.figure()\n",
    "plt.plot(tmp,linewidth = 0.5)\n",
    "plt.plot(rolling_avg_price,'--',linewidth = 0.5)\n",
    "plt.plot(upper_band,'--',linewidth = 0.5)\n",
    "plt.plot(lower_band,'--',linewidth = 0.5)"
   ]
  },
  {
   "cell_type": "code",
   "execution_count": 44,
   "id": "5c01edcd",
   "metadata": {},
   "outputs": [],
   "source": [
    "tmp2 = tmp/np.max(tmp)"
   ]
  },
  {
   "cell_type": "code",
   "execution_count": 46,
   "id": "6930b809",
   "metadata": {
    "scrolled": false
   },
   "outputs": [
    {
     "data": {
      "application/vnd.jupyter.widget-view+json": {
       "model_id": "af9329dc34654336aa056dbee28f9dbc",
       "version_major": 2,
       "version_minor": 0
      },
      "text/plain": [
       "Canvas(toolbar=Toolbar(toolitems=[('Home', 'Reset original view', 'home', 'home'), ('Back', 'Back to previous …"
      ]
     },
     "metadata": {},
     "output_type": "display_data"
    },
    {
     "data": {
      "text/plain": [
       "[<matplotlib.lines.Line2D at 0x160e432cdf0>]"
      ]
     },
     "execution_count": 46,
     "metadata": {},
     "output_type": "execute_result"
    }
   ],
   "source": [
    "plt.figure()\n",
    "plt.plot(tmp2,linewidth = 0.5)"
   ]
  },
  {
   "cell_type": "code",
   "execution_count": 104,
   "id": "cd42b6dd",
   "metadata": {},
   "outputs": [
    {
     "data": {
      "text/plain": [
       "0.9727891156462585"
      ]
     },
     "execution_count": 104,
     "metadata": {},
     "output_type": "execute_result"
    }
   ],
   "source": [
    "0.0715/0.0735"
   ]
  },
  {
   "cell_type": "code",
   "execution_count": 106,
   "id": "cdd580f6",
   "metadata": {},
   "outputs": [
    {
     "data": {
      "text/plain": [
       "1.2697346485319148"
      ]
     },
     "execution_count": 106,
     "metadata": {},
     "output_type": "execute_result"
    }
   ],
   "source": [
    "1.01**(2*60/5)"
   ]
  },
  {
   "cell_type": "code",
   "execution_count": null,
   "id": "62d822cc",
   "metadata": {},
   "outputs": [],
   "source": []
  }
 ],
 "metadata": {
  "kernelspec": {
   "display_name": "Python 3",
   "language": "python",
   "name": "python3"
  },
  "language_info": {
   "codemirror_mode": {
    "name": "ipython",
    "version": 3
   },
   "file_extension": ".py",
   "mimetype": "text/x-python",
   "name": "python",
   "nbconvert_exporter": "python",
   "pygments_lexer": "ipython3",
   "version": "3.9.5"
  }
 },
 "nbformat": 4,
 "nbformat_minor": 5
}

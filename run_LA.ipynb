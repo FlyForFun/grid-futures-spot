{
 "cells": [
  {
   "cell_type": "code",
   "execution_count": null,
   "id": "c2093351",
   "metadata": {},
   "outputs": [],
   "source": [
    "# -*- coding: utf-8 -*-\n",
    "from app.BinanceAPI import BinanceAPI\n",
    "from app.authorization import api_key, api_secret\n",
    "from data.runBetData import RunBetData\n",
    "from app.dingding import Message\n",
    "import time\n",
    "import matplotlib.pyplot as plt\n",
    "import numpy as np\n",
    "import pandas as pd\n",
    "%matplotlib widget"
   ]
  },
  {
   "cell_type": "code",
   "execution_count": null,
   "id": "d9f85fa1",
   "metadata": {},
   "outputs": [],
   "source": [
    "binan = BinanceAPI(api_key, api_secret)\n",
    "runbet = RunBetData()\n",
    "msg = Message()"
   ]
  },
  {
   "cell_type": "code",
   "execution_count": null,
   "id": "3e235968",
   "metadata": {},
   "outputs": [],
   "source": [
    "class Run_Main():\n",
    "    \n",
    "    def __init__(self,coinType_long,coinType_short):\n",
    "        self.coinType_long = coinType_long  # 做多合约交易对\n",
    "        self.coinType_short = coinType_short # 做空合约交易对\n",
    "        self.positionState = False # False为空仓 True为满仓\n",
    "        self.all_usdt = 100\n",
    "    def loop_run(self):\n",
    "        while True:\n",
    "        # 获得两种合约499个1minK线（为了节约权重值=2）\n",
    "            long_kline_1m_data = pd.DataFrame(binan.get_future_klines(self.coinType_long, '1m', limit=499)).astype(float)\n",
    "            short_kline_1m_data = pd.DataFrame(binan.get_future_klines(self.coinType_short, '1m', limit=499)).astype(float)\n",
    "            # 计算价格比（做空合约价格/做多合约价格）的1minK线和相应的BOLL线\n",
    "            price_l2s = long_kline_1m_data/short_kline_1m_data # 待做空合约价格/待做多合约价格\n",
    "            rolling_avg_price, upper_band, lower_band = binan.Bolinger_Bands(price_l2s, 20, 2)\n",
    "            # if 未建仓\n",
    "            if not self.positionState:\n",
    "                # 当价格比触及boll上轨时，将一半仓位用于做多coinType_long，一半仓位用于做空coinType_short\n",
    "                if np.abs(price_12s.iloc[-1] - upper_band.iloc[-1,0])<=(upper_band.iloc[-1,0] - lower_band.iloc[-1,0])*0.05:\n",
    "                    binan.limit_future_order('BUY', self.coinType_long, quantity, price)\n",
    "                # 获得当前最优挂单\n",
    "            # if 已建仓\n",
    "                # 当价格比触及boll下轨时，将所有仓位平仓\n",
    "                # 将当前状态修改为未建仓\n",
    "                # 计算本次交易收益并记录"
   ]
  },
  {
   "cell_type": "code",
   "execution_count": null,
   "id": "454bcd74",
   "metadata": {},
   "outputs": [],
   "source": [
    "if __name__ == \"__main__\":\n",
    "    instance = Run_Main(coinType_long = 'ETHUSDT', coinType_short = 'BTCUSDT')\n",
    "    try:\n",
    "        instance.loop_run()\n",
    "    except Exception as e:\n",
    "        error_info = \"服务停止\"\n",
    "        print(error_info)\n",
    "        print(e)"
   ]
  },
  {
   "cell_type": "code",
   "execution_count": null,
   "id": "08965533",
   "metadata": {},
   "outputs": [],
   "source": []
  },
  {
   "cell_type": "code",
   "execution_count": null,
   "id": "3862dc57",
   "metadata": {},
   "outputs": [],
   "source": []
  },
  {
   "cell_type": "code",
   "execution_count": null,
   "id": "42f40b34",
   "metadata": {},
   "outputs": [],
   "source": []
  },
  {
   "cell_type": "code",
   "execution_count": null,
   "id": "9bf397cb",
   "metadata": {},
   "outputs": [],
   "source": []
  },
  {
   "cell_type": "code",
   "execution_count": null,
   "id": "e223c13d",
   "metadata": {},
   "outputs": [],
   "source": []
  },
  {
   "cell_type": "code",
   "execution_count": null,
   "id": "c41d69d2",
   "metadata": {},
   "outputs": [],
   "source": []
  },
  {
   "cell_type": "code",
   "execution_count": null,
   "id": "8f1d258e",
   "metadata": {},
   "outputs": [],
   "source": []
  }
 ],
 "metadata": {
  "kernelspec": {
   "display_name": "Python 3",
   "language": "python",
   "name": "python3"
  },
  "language_info": {
   "codemirror_mode": {
    "name": "ipython",
    "version": 3
   },
   "file_extension": ".py",
   "mimetype": "text/x-python",
   "name": "python",
   "nbconvert_exporter": "python",
   "pygments_lexer": "ipython3",
   "version": "3.9.5"
  }
 },
 "nbformat": 4,
 "nbformat_minor": 5
}
